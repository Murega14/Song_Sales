{
 "cells": [
  {
   "cell_type": "code",
   "execution_count": 1,
   "metadata": {},
   "outputs": [],
   "source": [
    "import os\n",
    "from sqlalchemy import create_engine\n",
    "\n",
    "\n",
    "# Construct the connection URL\n",
    "db_url = f\"sqlite:///{os.path.abspath('/home/muregz/data_analysis/song_sales/chinook.db')}\"\n",
    "\n",
    "# Set the DATABASE_URL environment variable\n",
    "os.environ['DATABASE_URL'] = db_url\n",
    "\n",
    "# Create a database engine\n",
    "engine = create_engine(os.environ['DATABASE_URL'])\n"
   ]
  },
  {
   "cell_type": "code",
   "execution_count": 2,
   "metadata": {},
   "outputs": [],
   "source": [
    "#configuring mysql into jupyter notebook\n",
    "%load_ext sql\n",
    "%config SqlMagic.autopandas=True"
   ]
  },
  {
   "attachments": {},
   "cell_type": "markdown",
   "metadata": {},
   "source": [
    "1.Which tracks generated the most revenue? which album? which genre?"
   ]
  },
  {
   "cell_type": "code",
   "execution_count": 3,
   "metadata": {},
   "outputs": [
    {
     "name": "stderr",
     "output_type": "stream",
     "text": [
      "UsageError: %%sql is a cell magic, but the cell body is empty. Did you mean the line magic %sql (single %)?\n"
     ]
    }
   ],
   "source": [
    "%%sql\n"
   ]
  },
  {
   "attachments": {},
   "cell_type": "markdown",
   "metadata": {},
   "source": [
    "2.Which tracks appeared in the most playlists?How many playlists did they appear in?"
   ]
  },
  {
   "cell_type": "code",
   "execution_count": 9,
   "metadata": {},
   "outputs": [
    {
     "name": "stdout",
     "output_type": "stream",
     "text": [
      " * sqlite:////home/muregz/data_analysis/song_sales/chinook.db\n",
      "Done.\n"
     ]
    },
    {
     "data": {
      "text/html": [
       "<div>\n",
       "<style scoped>\n",
       "    .dataframe tbody tr th:only-of-type {\n",
       "        vertical-align: middle;\n",
       "    }\n",
       "\n",
       "    .dataframe tbody tr th {\n",
       "        vertical-align: top;\n",
       "    }\n",
       "\n",
       "    .dataframe thead th {\n",
       "        text-align: right;\n",
       "    }\n",
       "</style>\n",
       "<table border=\"1\" class=\"dataframe\">\n",
       "  <thead>\n",
       "    <tr style=\"text-align: right;\">\n",
       "      <th></th>\n",
       "      <th>Name</th>\n",
       "      <th>num_appearances</th>\n",
       "    </tr>\n",
       "  </thead>\n",
       "  <tbody>\n",
       "    <tr>\n",
       "      <th>0</th>\n",
       "      <td>Intoitus: Adorate Deum</td>\n",
       "      <td>5</td>\n",
       "    </tr>\n",
       "    <tr>\n",
       "      <th>1</th>\n",
       "      <td>Miserere mei, Deus</td>\n",
       "      <td>5</td>\n",
       "    </tr>\n",
       "    <tr>\n",
       "      <th>2</th>\n",
       "      <td>Aria Mit 30 Veränderungen, BWV 988 \"Goldberg V...</td>\n",
       "      <td>5</td>\n",
       "    </tr>\n",
       "    <tr>\n",
       "      <th>3</th>\n",
       "      <td>Suite for Solo Cello No. 1 in G Major, BWV 100...</td>\n",
       "      <td>5</td>\n",
       "    </tr>\n",
       "    <tr>\n",
       "      <th>4</th>\n",
       "      <td>The Messiah: Behold, I Tell You a Mystery... T...</td>\n",
       "      <td>5</td>\n",
       "    </tr>\n",
       "    <tr>\n",
       "      <th>5</th>\n",
       "      <td>Solomon HWV 67: The Arrival of the Queen of Sheba</td>\n",
       "      <td>5</td>\n",
       "    </tr>\n",
       "    <tr>\n",
       "      <th>6</th>\n",
       "      <td>Symphony No.5 in C Minor: I. Allegro con brio</td>\n",
       "      <td>5</td>\n",
       "    </tr>\n",
       "    <tr>\n",
       "      <th>7</th>\n",
       "      <td>Ave Maria</td>\n",
       "      <td>5</td>\n",
       "    </tr>\n",
       "    <tr>\n",
       "      <th>8</th>\n",
       "      <td>Nabucco: Chorus, \"Va, Pensiero, Sull'ali Dorate\"</td>\n",
       "      <td>5</td>\n",
       "    </tr>\n",
       "    <tr>\n",
       "      <th>9</th>\n",
       "      <td>Die Walküre: The Ride of the Valkyries</td>\n",
       "      <td>5</td>\n",
       "    </tr>\n",
       "  </tbody>\n",
       "</table>\n",
       "</div>"
      ],
      "text/plain": [
       "                                                Name  num_appearances\n",
       "0                             Intoitus: Adorate Deum                5\n",
       "1                                 Miserere mei, Deus                5\n",
       "2  Aria Mit 30 Veränderungen, BWV 988 \"Goldberg V...                5\n",
       "3  Suite for Solo Cello No. 1 in G Major, BWV 100...                5\n",
       "4  The Messiah: Behold, I Tell You a Mystery... T...                5\n",
       "5  Solomon HWV 67: The Arrival of the Queen of Sheba                5\n",
       "6      Symphony No.5 in C Minor: I. Allegro con brio                5\n",
       "7                                          Ave Maria                5\n",
       "8   Nabucco: Chorus, \"Va, Pensiero, Sull'ali Dorate\"                5\n",
       "9             Die Walküre: The Ride of the Valkyries                5"
      ]
     },
     "execution_count": 9,
     "metadata": {},
     "output_type": "execute_result"
    }
   ],
   "source": [
    "%%sql\n",
    "SELECT tracks.Name, COUNT(*) AS num_appearances\n",
    "FROM playlist_track\n",
    "JOIN tracks\n",
    "ON playlist_track.TrackId = tracks.TrackId\n",
    "GROUP BY playlist_track.TrackId\n",
    "ORDER BY COUNT(*) DESC\n",
    "LIMIT 10;"
   ]
  }
 ],
 "metadata": {
  "kernelspec": {
   "display_name": "Python 3",
   "language": "python",
   "name": "python3"
  },
  "language_info": {
   "codemirror_mode": {
    "name": "ipython",
    "version": 3
   },
   "file_extension": ".py",
   "mimetype": "text/x-python",
   "name": "python",
   "nbconvert_exporter": "python",
   "pygments_lexer": "ipython3",
   "version": "3.11.2"
  },
  "orig_nbformat": 4
 },
 "nbformat": 4,
 "nbformat_minor": 2
}
