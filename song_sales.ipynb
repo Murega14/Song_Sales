{
 "cells": [
  {
   "cell_type": "code",
   "execution_count": 2,
   "metadata": {},
   "outputs": [],
   "source": [
    "#importing the necessary python libraries\n"
   ]
  },
  {
   "cell_type": "code",
   "execution_count": 3,
   "metadata": {},
   "outputs": [],
   "source": [
    "import os\n",
    "from sqlalchemy import create_engine\n",
    "\n",
    "\n",
    "# Construct the connection URL\n",
    "db_url = f\"sqlite:///{os.path.abspath('/home/muregz/data_analysis/song_sales/chinook.db')}\"\n",
    "\n",
    "# Set the DATABASE_URL environment variable\n",
    "os.environ['DATABASE_URL'] = db_url\n",
    "\n",
    "# Create a database engine\n",
    "engine = create_engine(os.environ['DATABASE_URL'])\n"
   ]
  },
  {
   "cell_type": "code",
   "execution_count": 4,
   "metadata": {},
   "outputs": [],
   "source": [
    "#configuring mysql into jupyter notebook\n",
    "%load_ext sql\n",
    "%config SqlMagic.autopandas=True"
   ]
  },
  {
   "attachments": {},
   "cell_type": "markdown",
   "metadata": {},
   "source": [
    "**1.Which tracks generated the most revenue? which album? which genre?**"
   ]
  },
  {
   "cell_type": "code",
   "execution_count": 5,
   "metadata": {},
   "outputs": [
    {
     "name": "stdout",
     "output_type": "stream",
     "text": [
      "Done.\n"
     ]
    },
    {
     "data": {
      "text/html": [
       "<div>\n",
       "<style scoped>\n",
       "    .dataframe tbody tr th:only-of-type {\n",
       "        vertical-align: middle;\n",
       "    }\n",
       "\n",
       "    .dataframe tbody tr th {\n",
       "        vertical-align: top;\n",
       "    }\n",
       "\n",
       "    .dataframe thead th {\n",
       "        text-align: right;\n",
       "    }\n",
       "</style>\n",
       "<table border=\"1\" class=\"dataframe\">\n",
       "  <thead>\n",
       "    <tr style=\"text-align: right;\">\n",
       "      <th></th>\n",
       "      <th>Song</th>\n",
       "      <th>Album</th>\n",
       "      <th>Genre</th>\n",
       "      <th>Revenue</th>\n",
       "    </tr>\n",
       "  </thead>\n",
       "  <tbody>\n",
       "    <tr>\n",
       "      <th>0</th>\n",
       "      <td>The Woman King</td>\n",
       "      <td>Battlestar Galactica, Season 3</td>\n",
       "      <td>Science Fiction</td>\n",
       "      <td>3.98</td>\n",
       "    </tr>\n",
       "    <tr>\n",
       "      <th>1</th>\n",
       "      <td>The Fix</td>\n",
       "      <td>Heroes, Season 1</td>\n",
       "      <td>Drama</td>\n",
       "      <td>3.98</td>\n",
       "    </tr>\n",
       "    <tr>\n",
       "      <th>2</th>\n",
       "      <td>Walkabout</td>\n",
       "      <td>Lost, Season 1</td>\n",
       "      <td>TV Shows</td>\n",
       "      <td>3.98</td>\n",
       "    </tr>\n",
       "    <tr>\n",
       "      <th>3</th>\n",
       "      <td>Hot Girl</td>\n",
       "      <td>The Office, Season 1</td>\n",
       "      <td>TV Shows</td>\n",
       "      <td>3.98</td>\n",
       "    </tr>\n",
       "    <tr>\n",
       "      <th>4</th>\n",
       "      <td>Gay Witch Hunt</td>\n",
       "      <td>The Office, Season 3</td>\n",
       "      <td>TV Shows</td>\n",
       "      <td>3.98</td>\n",
       "    </tr>\n",
       "  </tbody>\n",
       "</table>\n",
       "</div>"
      ],
      "text/plain": [
       "             Song                           Album            Genre  Revenue\n",
       "0  The Woman King  Battlestar Galactica, Season 3  Science Fiction     3.98\n",
       "1         The Fix                Heroes, Season 1            Drama     3.98\n",
       "2       Walkabout                  Lost, Season 1         TV Shows     3.98\n",
       "3        Hot Girl            The Office, Season 1         TV Shows     3.98\n",
       "4  Gay Witch Hunt            The Office, Season 3         TV Shows     3.98"
      ]
     },
     "execution_count": 5,
     "metadata": {},
     "output_type": "execute_result"
    }
   ],
   "source": [
    "%%sql\n",
    "SELECT tracks.Name AS `Song`, albums.Title AS `Album`, genres.Name \n",
    "AS `Genre`, SUM(invoice_items.UnitPrice * invoice_items.Quantity) AS Revenue\n",
    "FROM tracks\n",
    "JOIN albums ON tracks.AlbumId = albums.AlbumId\n",
    "JOIN genres ON tracks.GenreId = genres.GenreId\n",
    "JOIN invoice_items ON tracks.TrackId = invoice_items.TrackId\n",
    "GROUP BY tracks.TrackId\n",
    "ORDER BY revenue DESC\n",
    "LIMIT 5;\n"
   ]
  },
  {
   "attachments": {},
   "cell_type": "markdown",
   "metadata": {},
   "source": [
    "**2.Which tracks appeared in the most playlists?How many playlists did they appear in?**"
   ]
  },
  {
   "cell_type": "code",
   "execution_count": 38,
   "metadata": {},
   "outputs": [
    {
     "name": "stdout",
     "output_type": "stream",
     "text": [
      " * sqlite:////home/muregz/data_analysis/song_sales/chinook.db\n",
      "Done.\n"
     ]
    },
    {
     "data": {
      "text/html": [
       "<div>\n",
       "<style scoped>\n",
       "    .dataframe tbody tr th:only-of-type {\n",
       "        vertical-align: middle;\n",
       "    }\n",
       "\n",
       "    .dataframe tbody tr th {\n",
       "        vertical-align: top;\n",
       "    }\n",
       "\n",
       "    .dataframe thead th {\n",
       "        text-align: right;\n",
       "    }\n",
       "</style>\n",
       "<table border=\"1\" class=\"dataframe\">\n",
       "  <thead>\n",
       "    <tr style=\"text-align: right;\">\n",
       "      <th></th>\n",
       "      <th>Name</th>\n",
       "      <th>Number of Appearances</th>\n",
       "    </tr>\n",
       "  </thead>\n",
       "  <tbody>\n",
       "    <tr>\n",
       "      <th>0</th>\n",
       "      <td>Intoitus: Adorate Deum</td>\n",
       "      <td>5</td>\n",
       "    </tr>\n",
       "    <tr>\n",
       "      <th>1</th>\n",
       "      <td>Miserere mei, Deus</td>\n",
       "      <td>5</td>\n",
       "    </tr>\n",
       "    <tr>\n",
       "      <th>2</th>\n",
       "      <td>Aria Mit 30 Veränderungen, BWV 988 \"Goldberg V...</td>\n",
       "      <td>5</td>\n",
       "    </tr>\n",
       "    <tr>\n",
       "      <th>3</th>\n",
       "      <td>Suite for Solo Cello No. 1 in G Major, BWV 100...</td>\n",
       "      <td>5</td>\n",
       "    </tr>\n",
       "    <tr>\n",
       "      <th>4</th>\n",
       "      <td>The Messiah: Behold, I Tell You a Mystery... T...</td>\n",
       "      <td>5</td>\n",
       "    </tr>\n",
       "    <tr>\n",
       "      <th>5</th>\n",
       "      <td>Solomon HWV 67: The Arrival of the Queen of Sheba</td>\n",
       "      <td>5</td>\n",
       "    </tr>\n",
       "    <tr>\n",
       "      <th>6</th>\n",
       "      <td>Symphony No.5 in C Minor: I. Allegro con brio</td>\n",
       "      <td>5</td>\n",
       "    </tr>\n",
       "    <tr>\n",
       "      <th>7</th>\n",
       "      <td>Ave Maria</td>\n",
       "      <td>5</td>\n",
       "    </tr>\n",
       "    <tr>\n",
       "      <th>8</th>\n",
       "      <td>Nabucco: Chorus, \"Va, Pensiero, Sull'ali Dorate\"</td>\n",
       "      <td>5</td>\n",
       "    </tr>\n",
       "    <tr>\n",
       "      <th>9</th>\n",
       "      <td>Die Walküre: The Ride of the Valkyries</td>\n",
       "      <td>5</td>\n",
       "    </tr>\n",
       "  </tbody>\n",
       "</table>\n",
       "</div>"
      ],
      "text/plain": [
       "                                                Name  Number of Appearances\n",
       "0                             Intoitus: Adorate Deum                      5\n",
       "1                                 Miserere mei, Deus                      5\n",
       "2  Aria Mit 30 Veränderungen, BWV 988 \"Goldberg V...                      5\n",
       "3  Suite for Solo Cello No. 1 in G Major, BWV 100...                      5\n",
       "4  The Messiah: Behold, I Tell You a Mystery... T...                      5\n",
       "5  Solomon HWV 67: The Arrival of the Queen of Sheba                      5\n",
       "6      Symphony No.5 in C Minor: I. Allegro con brio                      5\n",
       "7                                          Ave Maria                      5\n",
       "8   Nabucco: Chorus, \"Va, Pensiero, Sull'ali Dorate\"                      5\n",
       "9             Die Walküre: The Ride of the Valkyries                      5"
      ]
     },
     "execution_count": 38,
     "metadata": {},
     "output_type": "execute_result"
    }
   ],
   "source": [
    "%%sql\n",
    "SELECT tracks.Name, COUNT(playlist_track.TrackId) AS `Number of Appearances`\n",
    "FROM playlist_track\n",
    "JOIN tracks\n",
    "ON playlist_track.TrackId = tracks.TrackId\n",
    "GROUP BY playlist_track.TrackId\n",
    "ORDER BY 2 DESC\n",
    "LIMIT 10;"
   ]
  },
  {
   "attachments": {},
   "cell_type": "markdown",
   "metadata": {},
   "source": [
    "**3.Which countries have the highest sales revenue? What percentage of total revenue does each country make up?**"
   ]
  },
  {
   "cell_type": "code",
   "execution_count": 7,
   "metadata": {},
   "outputs": [
    {
     "name": "stdout",
     "output_type": "stream",
     "text": [
      " * sqlite:////home/muregz/data_analysis/song_sales/chinook.db\n",
      "Done.\n"
     ]
    },
    {
     "data": {
      "text/html": [
       "<div>\n",
       "<style scoped>\n",
       "    .dataframe tbody tr th:only-of-type {\n",
       "        vertical-align: middle;\n",
       "    }\n",
       "\n",
       "    .dataframe tbody tr th {\n",
       "        vertical-align: top;\n",
       "    }\n",
       "\n",
       "    .dataframe thead th {\n",
       "        text-align: right;\n",
       "    }\n",
       "</style>\n",
       "<table border=\"1\" class=\"dataframe\">\n",
       "  <thead>\n",
       "    <tr style=\"text-align: right;\">\n",
       "      <th></th>\n",
       "      <th>Country</th>\n",
       "      <th>Revenue</th>\n",
       "      <th>Percentage of Total Revenue</th>\n",
       "    </tr>\n",
       "  </thead>\n",
       "  <tbody>\n",
       "    <tr>\n",
       "      <th>0</th>\n",
       "      <td>USA</td>\n",
       "      <td>523.06</td>\n",
       "      <td>22.46</td>\n",
       "    </tr>\n",
       "    <tr>\n",
       "      <th>1</th>\n",
       "      <td>Canada</td>\n",
       "      <td>303.96</td>\n",
       "      <td>13.05</td>\n",
       "    </tr>\n",
       "    <tr>\n",
       "      <th>2</th>\n",
       "      <td>France</td>\n",
       "      <td>195.10</td>\n",
       "      <td>8.38</td>\n",
       "    </tr>\n",
       "    <tr>\n",
       "      <th>3</th>\n",
       "      <td>Brazil</td>\n",
       "      <td>190.10</td>\n",
       "      <td>8.16</td>\n",
       "    </tr>\n",
       "    <tr>\n",
       "      <th>4</th>\n",
       "      <td>Germany</td>\n",
       "      <td>156.48</td>\n",
       "      <td>6.72</td>\n",
       "    </tr>\n",
       "    <tr>\n",
       "      <th>5</th>\n",
       "      <td>United Kingdom</td>\n",
       "      <td>112.86</td>\n",
       "      <td>4.85</td>\n",
       "    </tr>\n",
       "    <tr>\n",
       "      <th>6</th>\n",
       "      <td>Czech Republic</td>\n",
       "      <td>90.24</td>\n",
       "      <td>3.88</td>\n",
       "    </tr>\n",
       "    <tr>\n",
       "      <th>7</th>\n",
       "      <td>Portugal</td>\n",
       "      <td>77.24</td>\n",
       "      <td>3.32</td>\n",
       "    </tr>\n",
       "    <tr>\n",
       "      <th>8</th>\n",
       "      <td>India</td>\n",
       "      <td>75.26</td>\n",
       "      <td>3.23</td>\n",
       "    </tr>\n",
       "    <tr>\n",
       "      <th>9</th>\n",
       "      <td>Chile</td>\n",
       "      <td>46.62</td>\n",
       "      <td>2.00</td>\n",
       "    </tr>\n",
       "  </tbody>\n",
       "</table>\n",
       "</div>"
      ],
      "text/plain": [
       "          Country  Revenue  Percentage of Total Revenue\n",
       "0             USA   523.06                        22.46\n",
       "1          Canada   303.96                        13.05\n",
       "2          France   195.10                         8.38\n",
       "3          Brazil   190.10                         8.16\n",
       "4         Germany   156.48                         6.72\n",
       "5  United Kingdom   112.86                         4.85\n",
       "6  Czech Republic    90.24                         3.88\n",
       "7        Portugal    77.24                         3.32\n",
       "8           India    75.26                         3.23\n",
       "9           Chile    46.62                         2.00"
      ]
     },
     "execution_count": 7,
     "metadata": {},
     "output_type": "execute_result"
    }
   ],
   "source": [
    "%%sql\n",
    "SELECT invoices.BillingCountry AS `Country`, SUM(invoices.Total) AS Revenue,\n",
    "ROUND((SUM(invoices.Total) * 100)/SUM(SUM(invoices.Total)) OVER(), 2) AS `Percentage of Total Revenue`\n",
    "FROM invoices\n",
    "GROUP BY invoices.BillingCountry\n",
    "ORDER BY Revenue DESC\n",
    "LIMIT 10;"
   ]
  },
  {
   "attachments": {},
   "cell_type": "markdown",
   "metadata": {},
   "source": [
    "**4.How many customers did each employee support, what is the average revenue for each sale, and what is their total sale?**"
   ]
  },
  {
   "cell_type": "code",
   "execution_count": 8,
   "metadata": {},
   "outputs": [
    {
     "name": "stdout",
     "output_type": "stream",
     "text": [
      " * sqlite:////home/muregz/data_analysis/song_sales/chinook.db\n",
      "Done.\n"
     ]
    },
    {
     "data": {
      "text/html": [
       "<div>\n",
       "<style scoped>\n",
       "    .dataframe tbody tr th:only-of-type {\n",
       "        vertical-align: middle;\n",
       "    }\n",
       "\n",
       "    .dataframe tbody tr th {\n",
       "        vertical-align: top;\n",
       "    }\n",
       "\n",
       "    .dataframe thead th {\n",
       "        text-align: right;\n",
       "    }\n",
       "</style>\n",
       "<table border=\"1\" class=\"dataframe\">\n",
       "  <thead>\n",
       "    <tr style=\"text-align: right;\">\n",
       "      <th></th>\n",
       "      <th>FirstName</th>\n",
       "      <th>LastName</th>\n",
       "      <th>Customers Supported</th>\n",
       "      <th>Revenue</th>\n",
       "      <th>Percentage of Total Revenue</th>\n",
       "    </tr>\n",
       "  </thead>\n",
       "  <tbody>\n",
       "    <tr>\n",
       "      <th>0</th>\n",
       "      <td>Jane</td>\n",
       "      <td>Peacock</td>\n",
       "      <td>147</td>\n",
       "      <td>832.02</td>\n",
       "      <td>35.32</td>\n",
       "    </tr>\n",
       "    <tr>\n",
       "      <th>1</th>\n",
       "      <td>Margaret</td>\n",
       "      <td>Park</td>\n",
       "      <td>140</td>\n",
       "      <td>792.40</td>\n",
       "      <td>33.64</td>\n",
       "    </tr>\n",
       "    <tr>\n",
       "      <th>2</th>\n",
       "      <td>Steve</td>\n",
       "      <td>Johnson</td>\n",
       "      <td>126</td>\n",
       "      <td>731.16</td>\n",
       "      <td>31.04</td>\n",
       "    </tr>\n",
       "  </tbody>\n",
       "</table>\n",
       "</div>"
      ],
      "text/plain": [
       "  FirstName LastName  Customers Supported  Revenue   \n",
       "0      Jane  Peacock                  147   832.02  \\\n",
       "1  Margaret     Park                  140   792.40   \n",
       "2     Steve  Johnson                  126   731.16   \n",
       "\n",
       "   Percentage of Total Revenue  \n",
       "0                        35.32  \n",
       "1                        33.64  \n",
       "2                        31.04  "
      ]
     },
     "execution_count": 8,
     "metadata": {},
     "output_type": "execute_result"
    }
   ],
   "source": [
    "%%sql\n",
    "SELECT employees.FirstName, employees.LastName,\n",
    "COUNT(customers.SupportRepId) AS `Customers Supported`,\n",
    "SUM(invoices.Total) AS Revenue,\n",
    "ROUND((SUM(invoices.Total) * 100)/SUM(SUM(invoices.Total)) OVER(), 2) AS `Percentage of Total Revenue`\n",
    "FROM employees\n",
    "JOIN customers ON employees.EmployeeId = customers.SupportRepId\n",
    "JOIN invoices ON customers.SupportRepId = invoices.CustomerId\n",
    "GROUP BY 1\n",
    "ORDER BY Revenue DESC\n",
    "LIMIT 10;"
   ]
  },
  {
   "attachments": {},
   "cell_type": "markdown",
   "metadata": {},
   "source": [
    "**5. Do longer or shorter length albums tend to generate more revenue?**"
   ]
  },
  {
   "cell_type": "code",
   "execution_count": null,
   "metadata": {},
   "outputs": [],
   "source": [
    "%%sql\n",
    "--adding a column to the tracks table to store track length in minutes\n",
    "ALTER TABLE tracks ADD duration_in_minutes INT;\n",
    "UPDATE TABLE tracks SET duration_in_minutes = REAL;\n"
   ]
  },
  {
   "cell_type": "code",
   "execution_count": 21,
   "metadata": {},
   "outputs": [
    {
     "name": "stdout",
     "output_type": "stream",
     "text": [
      " * sqlite:////home/muregz/data_analysis/song_sales/chinook.db\n",
      "3503 rows affected.\n"
     ]
    },
    {
     "data": {
      "text/html": [
       "<div>\n",
       "<style scoped>\n",
       "    .dataframe tbody tr th:only-of-type {\n",
       "        vertical-align: middle;\n",
       "    }\n",
       "\n",
       "    .dataframe tbody tr th {\n",
       "        vertical-align: top;\n",
       "    }\n",
       "\n",
       "    .dataframe thead th {\n",
       "        text-align: right;\n",
       "    }\n",
       "</style>\n",
       "<table border=\"1\" class=\"dataframe\">\n",
       "  <thead>\n",
       "    <tr style=\"text-align: right;\">\n",
       "      <th></th>\n",
       "    </tr>\n",
       "  </thead>\n",
       "  <tbody>\n",
       "  </tbody>\n",
       "</table>\n",
       "</div>"
      ],
      "text/plain": [
       "Empty DataFrame\n",
       "Columns: []\n",
       "Index: []"
      ]
     },
     "execution_count": 21,
     "metadata": {},
     "output_type": "execute_result"
    }
   ],
   "source": [
    "%%sql\n",
    "--adding data into the column added\n",
    "UPDATE tracks SET duration_in_minutes = ROUND(CAST(Milliseconds AS REAL) / 60000,  2);\n"
   ]
  },
  {
   "cell_type": "code",
   "execution_count": null,
   "metadata": {},
   "outputs": [],
   "source": [
    "%%sql\n",
    "WITH sales AS(\n",
    "    SELECT invoices.InvoiceId, SUM(invoices.Total) AS Revenue\n",
    "            ,invoice_items.TrackId AS Tracks\n",
    "    FROM invoices\n",
    "    JOIN invoice_items ON invoices.InvoiceId = invoice_items.InvoiceId\n",
    "    GROUP BY 1, 3\n",
    ")\n",
    "SELECT albums.Title, SUM(duration_in_minutes) AS length --length is in minutes\n",
    "        ,SUM(sales.Revenue) AS `Total Revenue`\n",
    "FROM tracks\n",
    "JOIN albums ON tracks.AlbumId = albums.AlbumId\n",
    "JOIN sales ON tracks.AlbumId = sales.Tracks\n",
    "GROUP BY 1, albums.AlbumId\n",
    "ORDER BY SUM(sales.Revenue) DESC\n",
    "LIMIT 20;"
   ]
  },
  {
   "attachments": {},
   "cell_type": "markdown",
   "metadata": {},
   "source": [
    "**6. Is the number of times a track appear in any playlist a good indicator of sales?**"
   ]
  },
  {
   "cell_type": "code",
   "execution_count": 43,
   "metadata": {},
   "outputs": [
    {
     "name": "stdout",
     "output_type": "stream",
     "text": [
      " * sqlite:////home/muregz/data_analysis/song_sales/chinook.db\n",
      "Done.\n"
     ]
    },
    {
     "data": {
      "text/html": [
       "<div>\n",
       "<style scoped>\n",
       "    .dataframe tbody tr th:only-of-type {\n",
       "        vertical-align: middle;\n",
       "    }\n",
       "\n",
       "    .dataframe tbody tr th {\n",
       "        vertical-align: top;\n",
       "    }\n",
       "\n",
       "    .dataframe thead th {\n",
       "        text-align: right;\n",
       "    }\n",
       "</style>\n",
       "<table border=\"1\" class=\"dataframe\">\n",
       "  <thead>\n",
       "    <tr style=\"text-align: right;\">\n",
       "      <th></th>\n",
       "      <th>Name</th>\n",
       "      <th>Number of Appearances in Playlists</th>\n",
       "      <th>Revenue</th>\n",
       "    </tr>\n",
       "  </thead>\n",
       "  <tbody>\n",
       "    <tr>\n",
       "      <th>0</th>\n",
       "      <td>Scheherazade, Op. 35: I. The Sea and Sindbad's...</td>\n",
       "      <td>10</td>\n",
       "      <td>9.90</td>\n",
       "    </tr>\n",
       "    <tr>\n",
       "      <th>1</th>\n",
       "      <td>Symphonie Fantastique, Op. 14: V. Songe d'une ...</td>\n",
       "      <td>10</td>\n",
       "      <td>9.90</td>\n",
       "    </tr>\n",
       "    <tr>\n",
       "      <th>2</th>\n",
       "      <td>Suite No. 3 in D, BWV 1068: III. Gavotte I &amp; II</td>\n",
       "      <td>10</td>\n",
       "      <td>9.90</td>\n",
       "    </tr>\n",
       "    <tr>\n",
       "      <th>3</th>\n",
       "      <td>Esquinas</td>\n",
       "      <td>8</td>\n",
       "      <td>7.92</td>\n",
       "    </tr>\n",
       "    <tr>\n",
       "      <th>4</th>\n",
       "      <td>Açai</td>\n",
       "      <td>8</td>\n",
       "      <td>7.92</td>\n",
       "    </tr>\n",
       "    <tr>\n",
       "      <th>5</th>\n",
       "      <td>A Novidade (Live)</td>\n",
       "      <td>8</td>\n",
       "      <td>7.92</td>\n",
       "    </tr>\n",
       "    <tr>\n",
       "      <th>6</th>\n",
       "      <td>Music for the Funeral of Queen Mary: VI. \"Thou...</td>\n",
       "      <td>8</td>\n",
       "      <td>7.92</td>\n",
       "    </tr>\n",
       "    <tr>\n",
       "      <th>7</th>\n",
       "      <td>String Quartet No. 12 in C Minor, D. 703 \"Quar...</td>\n",
       "      <td>8</td>\n",
       "      <td>7.92</td>\n",
       "    </tr>\n",
       "    <tr>\n",
       "      <th>8</th>\n",
       "      <td>Balls to the Wall</td>\n",
       "      <td>6</td>\n",
       "      <td>5.94</td>\n",
       "    </tr>\n",
       "    <tr>\n",
       "      <th>9</th>\n",
       "      <td>Deuces Are Wild</td>\n",
       "      <td>6</td>\n",
       "      <td>5.94</td>\n",
       "    </tr>\n",
       "  </tbody>\n",
       "</table>\n",
       "</div>"
      ],
      "text/plain": [
       "                                                Name   \n",
       "0  Scheherazade, Op. 35: I. The Sea and Sindbad's...  \\\n",
       "1  Symphonie Fantastique, Op. 14: V. Songe d'une ...   \n",
       "2    Suite No. 3 in D, BWV 1068: III. Gavotte I & II   \n",
       "3                                           Esquinas   \n",
       "4                                               Açai   \n",
       "5                                  A Novidade (Live)   \n",
       "6  Music for the Funeral of Queen Mary: VI. \"Thou...   \n",
       "7  String Quartet No. 12 in C Minor, D. 703 \"Quar...   \n",
       "8                                  Balls to the Wall   \n",
       "9                                    Deuces Are Wild   \n",
       "\n",
       "   Number of Appearances in Playlists  Revenue  \n",
       "0                                  10     9.90  \n",
       "1                                  10     9.90  \n",
       "2                                  10     9.90  \n",
       "3                                   8     7.92  \n",
       "4                                   8     7.92  \n",
       "5                                   8     7.92  \n",
       "6                                   8     7.92  \n",
       "7                                   8     7.92  \n",
       "8                                   6     5.94  \n",
       "9                                   6     5.94  "
      ]
     },
     "execution_count": 43,
     "metadata": {},
     "output_type": "execute_result"
    }
   ],
   "source": [
    "%%sql\n",
    "SELECT tracks.Name, COUNT(playlist_track.TrackId) AS `Number of Appearances in Playlists`, \n",
    "        SUM(invoice_items.UnitPrice * invoice_items.Quantity) AS Revenue\n",
    "FROM playlist_track\n",
    "JOIN invoice_items ON playlist_track.TrackId = invoice_items.TrackId\n",
    "JOIN tracks ON playlist_track.TrackId = tracks.TrackId\n",
    "GROUP BY playlist_track.TrackId\n",
    "ORDER BY 2 DESC\n",
    "LIMIT 10;"
   ]
  },
  {
   "attachments": {},
   "cell_type": "markdown",
   "metadata": {},
   "source": [
    "**7. How much revenue is generated each year and what is its percent change from the previous year?**"
   ]
  },
  {
   "cell_type": "code",
   "execution_count": 45,
   "metadata": {},
   "outputs": [
    {
     "name": "stdout",
     "output_type": "stream",
     "text": [
      " * sqlite:////home/muregz/data_analysis/song_sales/chinook.db\n",
      "412 rows affected.\n"
     ]
    },
    {
     "data": {
      "text/html": [
       "<div>\n",
       "<style scoped>\n",
       "    .dataframe tbody tr th:only-of-type {\n",
       "        vertical-align: middle;\n",
       "    }\n",
       "\n",
       "    .dataframe tbody tr th {\n",
       "        vertical-align: top;\n",
       "    }\n",
       "\n",
       "    .dataframe thead th {\n",
       "        text-align: right;\n",
       "    }\n",
       "</style>\n",
       "<table border=\"1\" class=\"dataframe\">\n",
       "  <thead>\n",
       "    <tr style=\"text-align: right;\">\n",
       "      <th></th>\n",
       "    </tr>\n",
       "  </thead>\n",
       "  <tbody>\n",
       "  </tbody>\n",
       "</table>\n",
       "</div>"
      ],
      "text/plain": [
       "Empty DataFrame\n",
       "Columns: []\n",
       "Index: []"
      ]
     },
     "execution_count": 45,
     "metadata": {},
     "output_type": "execute_result"
    }
   ],
   "source": [
    "%%sql\n",
    "--updating the InvoiceDate column in the invoices table to just show the year\n",
    "UPDATE invoices\n",
    "SET InvoiceDate = strftime('%Y', InvoiceDate);\n",
    "\n"
   ]
  },
  {
   "cell_type": "code",
   "execution_count": null,
   "metadata": {},
   "outputs": [],
   "source": []
  }
 ],
 "metadata": {
  "kernelspec": {
   "display_name": "Python 3",
   "language": "python",
   "name": "python3"
  },
  "language_info": {
   "codemirror_mode": {
    "name": "ipython",
    "version": 3
   },
   "file_extension": ".py",
   "mimetype": "text/x-python",
   "name": "python",
   "nbconvert_exporter": "python",
   "pygments_lexer": "ipython3",
   "version": "3.11.2"
  },
  "orig_nbformat": 4
 },
 "nbformat": 4,
 "nbformat_minor": 2
}
